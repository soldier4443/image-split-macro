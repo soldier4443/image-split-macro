{
 "cells": [
  {
   "cell_type": "code",
   "execution_count": null,
   "metadata": {},
   "outputs": [],
   "source": [
    "import pandas\n",
    "import numpy\n",
    "\n",
    "pandas.set_option('display.max_rows', 10)\n",
    "pandas.set_option('display.max_columns', 10)\n",
    "\n",
    "data = pandas.read_csv(\"chosunghintdata.csv\", sep=\"|\", encoding=\"EUC-KR\")"
   ]
  },
  {
   "cell_type": "code",
   "execution_count": null,
   "metadata": {},
   "outputs": [],
   "source": [
    "start_index = 121\n",
    "queries = []\n",
    "query = \"INSERT INTO `inbrain_training`.`it_chosung_hint_category` (`category_id`, `name`, `level_label`, `deleted`) VALUES ('{}', '{}', '{}', '{}');\"\n",
    "map = {}\n",
    "\n",
    "for item in data['Category'].dropna().items():\n",
    "    queries.append(query.format(start_index, item[1], \"EASY\", 0))\n",
    "    map[item[1]] = start_index\n",
    "    start_index += 1"
   ]
  },
  {
   "cell_type": "code",
   "execution_count": null,
   "metadata": {},
   "outputs": [],
   "source": [
    "data = data.fillna(method='ffill').drop_duplicates(subset=\"뜻\")"
   ]
  },
  {
   "cell_type": "code",
   "execution_count": null,
   "metadata": {
    "scrolled": true
   },
   "outputs": [],
   "source": [
    "data['CategoryNum'] = data['Category'].apply(lambda x: map[x])\n",
    "data['외래어 여부'] = data['외래어 여부'].apply(lambda x: 0 if x == 'x' else 1)\n",
    "data"
   ]
  },
  {
   "cell_type": "code",
   "execution_count": null,
   "metadata": {},
   "outputs": [],
   "source": [
    "# 카테고리\n",
    "for q in queries:\n",
    "    print(q)"
   ]
  },
  {
   "cell_type": "code",
   "execution_count": null,
   "metadata": {
    "scrolled": true
   },
   "outputs": [],
   "source": [
    "query_format = \"INSERT INTO `inbrain_training`.`it_chosung_hint_question_raw` (`chosung_hint_category_id`, `set_index`, `level`, `question`, `hint`, `answers`, `wrong_answers`, `is_foreign`, `deleted`) VALUES ('{}', '1', '1', '{}', '{}', '{}', '', '{}', '0');\"\n",
    "\n",
    "for item in data.itertuples():\n",
    "    print(query_format.format(item[7], item[3], item[5], item[4], item[6]))"
   ]
  }
 ],
 "metadata": {
  "kernelspec": {
   "display_name": "Python 3",
   "language": "python",
   "name": "python3"
  },
  "language_info": {
   "codemirror_mode": {
    "name": "ipython",
    "version": 3
   },
   "file_extension": ".py",
   "mimetype": "text/x-python",
   "name": "python",
   "nbconvert_exporter": "python",
   "pygments_lexer": "ipython3",
   "version": "3.7.1"
  }
 },
 "nbformat": 4,
 "nbformat_minor": 2
}
